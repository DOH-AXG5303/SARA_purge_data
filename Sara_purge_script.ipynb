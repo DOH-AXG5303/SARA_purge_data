{
 "cells": [
  {
   "cell_type": "code",
   "execution_count": 25,
   "id": "3f5e8d1f-2a4a-4503-8931-88149c665e9a",
   "metadata": {},
   "outputs": [],
   "source": [
    "import os, re\n",
    "import pandas as pd"
   ]
  },
  {
   "cell_type": "code",
   "execution_count": 13,
   "id": "3bc50655-c81a-453a-973b-766d76bbae83",
   "metadata": {},
   "outputs": [],
   "source": [
    "general_path = 'C:/SARA_purge_copy'"
   ]
  },
  {
   "cell_type": "code",
   "execution_count": null,
   "id": "a23a6a3b-827b-457c-9da1-e985552f13ad",
   "metadata": {},
   "outputs": [],
   "source": [
    "#import of all excel files into pandas (dictionary with key=date, value=df)\n",
    "\n",
    "dataframe_dict = {}\n",
    "failed_list = []\n",
    "\n",
    "for name in os.listdir(general_path):\n",
    "    \n",
    "    name_search = re.search(r\"\\A(Sara-Alert-Purge-Eligible-Export-)([0-9]{4}-[0-9]{2}-[0-9]{2}).*(\\.xlsx$)\", name)\n",
    "    \n",
    "    if name_search:\n",
    "        try:\n",
    "            df = pd.read_excel(name, sheet_name = \"Monitorees List\", engine = \"openpyxl\")\n",
    "            dataframe_dict[name_search.group(2)] = df\n",
    "            print(name_search.group(2) + \"SUCCESS\")\n",
    "        except:\n",
    "            failed_list.append(name_search.group(2))\n",
    "            print(name_search.group(2) + \"FAIL\")     \n",
    "    else:\n",
    "        pass\n"
   ]
  },
  {
   "cell_type": "code",
   "execution_count": null,
   "id": "91f17638-1ed7-4758-9578-8da7de1a7b82",
   "metadata": {},
   "outputs": [],
   "source": [
    "#Number of Columns is not uniform between files\n",
    "count = 0\n",
    "for key, value in dataframe_dict.items():\n",
    "    count += 1\n",
    "    print(f\"{key} : {value.shape}\")\n",
    "    \n",
    "#     if count >=20:\n",
    "#         break"
   ]
  },
  {
   "cell_type": "code",
   "execution_count": null,
   "id": "b2c2abcc-e7a8-4a6c-bac1-ac3d3c2bb7a4",
   "metadata": {},
   "outputs": [],
   "source": [
    "# checking for columns of every dataframe against May-19 as a key (104 columns)\n",
    "may_19 = set(dataframe_dict[\"2021-05-19\"].columns)\n",
    "count = 0\n",
    "\n",
    "for key, value in dataframe_dict.items():\n",
    "    \n",
    "    count += 1\n",
    "    test_set = may_19 & set(value.columns)\n",
    "    \n",
    "    if may_19 == test_set:\n",
    "        print(f\"{key} matches 104 columns key\")\n",
    "    \n",
    "    else:\n",
    "        print(f\"{key} FAIL columns key\")\n",
    "    \n",
    "    \n",
    "    \n",
    "#     if count >=20:\n",
    "#         break"
   ]
  },
  {
   "cell_type": "code",
   "execution_count": 51,
   "id": "58d1f77a-ac16-40ea-8d5c-7ab453543855",
   "metadata": {},
   "outputs": [],
   "source": [
    "jan_24 = set(dataframe_dict[\"2022-01-24\"].columns)"
   ]
  },
  {
   "cell_type": "code",
   "execution_count": 52,
   "id": "61c6949a-bd49-4027-923e-5e3251bcf904",
   "metadata": {},
   "outputs": [],
   "source": [
    "in_common = jan_24 & may_19"
   ]
  },
  {
   "cell_type": "code",
   "execution_count": 53,
   "id": "cadbdc42-8376-42b8-822e-781e76ddb18d",
   "metadata": {},
   "outputs": [
    {
     "data": {
      "text/plain": [
       "True"
      ]
     },
     "execution_count": 53,
     "metadata": {},
     "output_type": "execute_result"
    }
   ],
   "source": []
  },
  {
   "cell_type": "code",
   "execution_count": 54,
   "id": "b41fa9ef-6936-496c-a502-744e4c84ea8f",
   "metadata": {},
   "outputs": [
    {
     "data": {
      "text/plain": [
       "{'Alternate Contact Name',\n",
       " 'Alternate Contact Relationship',\n",
       " 'Alternate Email',\n",
       " 'Alternate International Telephone',\n",
       " 'Alternate Preferred Contact Method',\n",
       " 'Alternate Preferred Contact Time',\n",
       " 'Alternate Primary Telephone',\n",
       " 'Alternate Primary Telephone Type',\n",
       " 'Alternate Secondary Telephone',\n",
       " 'Alternate Secondary Telephone Type',\n",
       " 'Closed At',\n",
       " 'Cohort 1 Location',\n",
       " 'Cohort 1 Name/Description',\n",
       " 'Cohort 1 Type',\n",
       " 'Cohort 2 Location',\n",
       " 'Cohort 2 Name/Description',\n",
       " 'Cohort 2 Type',\n",
       " 'Continuous Exposure',\n",
       " 'Enrolled Workflow',\n",
       " 'Expected Purge Date',\n",
       " 'Exposure Monitorees that became Cases at',\n",
       " 'First Positive Lab',\n",
       " 'Follow-Up Note',\n",
       " 'Follow-Up Reason',\n",
       " 'International Telephone',\n",
       " 'Primary Contact Name',\n",
       " 'Primary Contact Relationship',\n",
       " 'Reason for Closure',\n",
       " 'Vaccine 1 Administration Date',\n",
       " 'Vaccine 1 Dose Number',\n",
       " 'Vaccine 1 Group Name',\n",
       " 'Vaccine 1 Notes',\n",
       " 'Vaccine 1 Product Name',\n",
       " 'Vaccine 2 Administration Date',\n",
       " 'Vaccine 2 Dose Number',\n",
       " 'Vaccine 2 Group Name',\n",
       " 'Vaccine 2 Notes',\n",
       " 'Vaccine 2 Product Name',\n",
       " 'Vaccine 3 Administration Date',\n",
       " 'Vaccine 3 Dose Number',\n",
       " 'Vaccine 3 Group Name',\n",
       " 'Vaccine 3 Notes',\n",
       " 'Vaccine 3 Product Name'}"
      ]
     },
     "execution_count": 54,
     "metadata": {},
     "output_type": "execute_result"
    }
   ],
   "source": [
    "jan_24 - may_19"
   ]
  },
  {
   "cell_type": "code",
   "execution_count": 55,
   "id": "c95a6020-6bdc-43bc-a9df-67be111e10c5",
   "metadata": {},
   "outputs": [
    {
     "data": {
      "text/plain": [
       "set()"
      ]
     },
     "execution_count": 55,
     "metadata": {},
     "output_type": "execute_result"
    }
   ],
   "source": [
    "may_19 - jan_24"
   ]
  },
  {
   "cell_type": "code",
   "execution_count": null,
   "id": "edea6eb0-a156-4968-bdaf-6f665ebd3a62",
   "metadata": {},
   "outputs": [],
   "source": []
  },
  {
   "cell_type": "code",
   "execution_count": 42,
   "id": "1bda5c16-f379-4beb-a93b-8a692ff5ba85",
   "metadata": {},
   "outputs": [],
   "source": []
  },
  {
   "cell_type": "code",
   "execution_count": 38,
   "id": "1b81b7a2-5129-4822-827c-49245d74249d",
   "metadata": {},
   "outputs": [],
   "source": []
  },
  {
   "cell_type": "code",
   "execution_count": 39,
   "id": "6d54e3c3-2dd2-4590-beab-22446d086cb6",
   "metadata": {},
   "outputs": [
    {
     "data": {
      "text/plain": [
       "True"
      ]
     },
     "execution_count": 39,
     "metadata": {},
     "output_type": "execute_result"
    }
   ],
   "source": []
  },
  {
   "cell_type": "code",
   "execution_count": null,
   "id": "1343cfba-3fa2-4faa-8ac9-041376fa6d82",
   "metadata": {},
   "outputs": [],
   "source": [
    "\n"
   ]
  },
  {
   "cell_type": "code",
   "execution_count": null,
   "id": "3bfa8964-e4f8-4830-a8f2-392abf96779d",
   "metadata": {},
   "outputs": [],
   "source": []
  }
 ],
 "metadata": {
  "kernelspec": {
   "display_name": "Python [conda env:transform21] *",
   "language": "python",
   "name": "conda-env-transform21-py"
  },
  "language_info": {
   "codemirror_mode": {
    "name": "ipython",
    "version": 3
   },
   "file_extension": ".py",
   "mimetype": "text/x-python",
   "name": "python",
   "nbconvert_exporter": "python",
   "pygments_lexer": "ipython3",
   "version": "3.8.10"
  }
 },
 "nbformat": 4,
 "nbformat_minor": 5
}
