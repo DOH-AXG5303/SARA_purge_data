{
 "cells": [
  {
   "cell_type": "markdown",
   "id": "427110f5-e60a-4642-8881-89dd5f665bd0",
   "metadata": {},
   "source": [
    "# Final changes to \"edit_histories\" and merge with purge compiled data\n",
    "## 02/17/2022"
   ]
  },
  {
   "cell_type": "code",
   "execution_count": 1,
   "id": "505756ab-3661-41d4-8e92-08241a5808ba",
   "metadata": {},
   "outputs": [],
   "source": [
    "import pandas as pd"
   ]
  },
  {
   "cell_type": "code",
   "execution_count": 2,
   "id": "e7d32252-1522-4f82-9fda-48b30ee9f670",
   "metadata": {},
   "outputs": [],
   "source": [
    "df = pd.read_csv(\"edit_histories_compiled.csv\")"
   ]
  },
  {
   "cell_type": "code",
   "execution_count": 3,
   "id": "985d28b5-ff07-4317-a1be-d8ead7affabf",
   "metadata": {},
   "outputs": [],
   "source": [
    "df = df.drop(\"Comment ID\", axis = 1 )\n",
    "df = df[['Patient ID', 'Comment', 'Created By', 'History Type', 'Created At']]"
   ]
  },
  {
   "cell_type": "code",
   "execution_count": 4,
   "id": "65199399-213d-4dd9-bc21-f5a4dbf27a30",
   "metadata": {},
   "outputs": [
    {
     "data": {
      "text/plain": [
       "(248981, 5)"
      ]
     },
     "execution_count": 4,
     "metadata": {},
     "output_type": "execute_result"
    }
   ],
   "source": [
    "df.shape"
   ]
  },
  {
   "cell_type": "code",
   "execution_count": 5,
   "id": "39f4ef92-8be0-4cf5-8b4c-d6a7a80adc43",
   "metadata": {},
   "outputs": [],
   "source": [
    "df = df.drop_duplicates()"
   ]
  },
  {
   "cell_type": "code",
   "execution_count": 6,
   "id": "7b1496ee-f630-484e-8672-4fb188e480fb",
   "metadata": {},
   "outputs": [
    {
     "data": {
      "text/plain": [
       "(241542, 5)"
      ]
     },
     "execution_count": 6,
     "metadata": {},
     "output_type": "execute_result"
    }
   ],
   "source": [
    "df.shape"
   ]
  },
  {
   "cell_type": "code",
   "execution_count": 7,
   "id": "05f9c0df-5058-4360-bccd-f42dee8dd8d5",
   "metadata": {},
   "outputs": [],
   "source": [
    "df = df[df[\"Comment\"].str.contains(\"User enrolled monitoree.|Reason:\")]"
   ]
  },
  {
   "cell_type": "code",
   "execution_count": 8,
   "id": "b303441c-30cc-46b1-81ec-b33c3d0d8fa7",
   "metadata": {},
   "outputs": [
    {
     "data": {
      "text/plain": [
       "(166892, 5)"
      ]
     },
     "execution_count": 8,
     "metadata": {},
     "output_type": "execute_result"
    }
   ],
   "source": [
    "df.shape"
   ]
  },
  {
   "cell_type": "code",
   "execution_count": 11,
   "id": "3390994a-1b97-45b2-aa0a-63838a8e8a64",
   "metadata": {},
   "outputs": [],
   "source": [
    "df[\"Created At\"] = df[\"Created At\"].str[:-4]\n",
    "\n",
    "\n",
    "df[\"Created At\"] = pd.to_datetime(df[\"Created At\"])\n"
   ]
  },
  {
   "cell_type": "code",
   "execution_count": 12,
   "id": "f0fcd897-bcac-476a-b05a-0dc4937fffbf",
   "metadata": {},
   "outputs": [
    {
     "data": {
      "text/plain": [
       "Patient ID               int64\n",
       "Comment                 object\n",
       "Created By              object\n",
       "History Type            object\n",
       "Created At      datetime64[ns]\n",
       "dtype: object"
      ]
     },
     "execution_count": 12,
     "metadata": {},
     "output_type": "execute_result"
    }
   ],
   "source": [
    "df.dtypes"
   ]
  },
  {
   "cell_type": "code",
   "execution_count": 13,
   "id": "f7966063-00ef-4928-b516-aaaa9d07ca17",
   "metadata": {},
   "outputs": [],
   "source": [
    "df_reason = df[df[\"Comment\"] != \"User enrolled monitoree.\"]\n",
    "df_enrolled = df[df[\"Comment\"] == \"User enrolled monitoree.\"]"
   ]
  },
  {
   "cell_type": "code",
   "execution_count": 14,
   "id": "732075b9-c14f-48d8-85b5-60756a92ca16",
   "metadata": {},
   "outputs": [],
   "source": [
    "df_reason = df_reason.sort_values(\"Created At\", ascending = False)\n",
    "\n",
    "df_reason = df_reason.drop_duplicates(subset = \"Patient ID\")\n",
    "\n",
    "df_reason = df_reason.reset_index(drop = True)"
   ]
  },
  {
   "cell_type": "code",
   "execution_count": 46,
   "id": "94de5429-50ec-47e9-929d-179af998e845",
   "metadata": {},
   "outputs": [],
   "source": [
    "df_edit_histories_complete = df_enrolled.merge(df_reason, how = \"outer\", on = \"Patient ID\", suffixes = (\"_1\", \"_2\"))"
   ]
  },
  {
   "cell_type": "markdown",
   "id": "d02691c7-79fc-4bfe-8f33-5287da52f69a",
   "metadata": {},
   "source": [
    "### Final merge"
   ]
  },
  {
   "cell_type": "code",
   "execution_count": 47,
   "id": "0d8b5d52-26eb-4f00-8df7-ed3c21ac73c8",
   "metadata": {},
   "outputs": [
    {
     "name": "stderr",
     "output_type": "stream",
     "text": [
      "C:\\Users\\AXG5303\\Miniconda3\\envs\\transform21\\lib\\site-packages\\IPython\\core\\interactiveshell.py:3165: DtypeWarning: Columns (0,3,10,13,14,16,17,21,23,24,27,31,32,38,41,42,45,47,48,50,53,54,62,71,75,77,79,80,82,84,86,89,91,93,95,96,97,98,100,101,102,108) have mixed types.Specify dtype option on import or set low_memory=False.\n",
      "  has_raised = await self.run_ast_nodes(code_ast.body, cell_name,\n"
     ]
    }
   ],
   "source": [
    "df_compiled_v2 = pd.read_csv(\"daily_purge_compiled_v2.csv\")"
   ]
  },
  {
   "cell_type": "code",
   "execution_count": 52,
   "id": "a21cf296-3fed-41aa-833c-13dbee7f4ac9",
   "metadata": {},
   "outputs": [],
   "source": [
    "complete = df_edit_histories_complete.merge(df_compiled_v2, how = \"outer\", on = \"Patient ID\")"
   ]
  },
  {
   "cell_type": "code",
   "execution_count": 54,
   "id": "e107ef2e-5d4f-4d5c-ac66-0d3cc4180b7f",
   "metadata": {},
   "outputs": [
    {
     "data": {
      "text/plain": [
       "(58727, 128)"
      ]
     },
     "execution_count": 54,
     "metadata": {},
     "output_type": "execute_result"
    }
   ],
   "source": [
    "complete.shape"
   ]
  },
  {
   "cell_type": "code",
   "execution_count": null,
   "id": "4ff3539e-c44f-4a44-976d-5740a11cb997",
   "metadata": {},
   "outputs": [],
   "source": [
    "complete.to_c"
   ]
  }
 ],
 "metadata": {
  "kernelspec": {
   "display_name": "Python [conda env:transform21] *",
   "language": "python",
   "name": "conda-env-transform21-py"
  },
  "language_info": {
   "codemirror_mode": {
    "name": "ipython",
    "version": 3
   },
   "file_extension": ".py",
   "mimetype": "text/x-python",
   "name": "python",
   "nbconvert_exporter": "python",
   "pygments_lexer": "ipython3",
   "version": "3.8.10"
  }
 },
 "nbformat": 4,
 "nbformat_minor": 5
}
